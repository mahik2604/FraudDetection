{
  "nbformat": 4,
  "nbformat_minor": 0,
  "metadata": {
    "colab": {
      "provenance": []
    },
    "kernelspec": {
      "name": "python3",
      "display_name": "Python 3"
    },
    "language_info": {
      "name": "python"
    }
  },
  "cells": [
    {
      "cell_type": "markdown",
      "source": [
        "## **Step 1: Data Loading and Exploration**"
      ],
      "metadata": {
        "id": "mXLZneFYcgQO"
      }
    },
    {
      "cell_type": "code",
      "execution_count": 19,
      "metadata": {
        "id": "oTB18cjabYQP",
        "colab": {
          "base_uri": "https://localhost:8080/"
        },
        "outputId": "170281fa-286e-4520-e93d-e609df6334a6"
      },
      "outputs": [
        {
          "output_type": "stream",
          "name": "stdout",
          "text": [
            "   step      type    amount     nameOrig  oldbalanceOrg newbalanceOrig  \\\n",
            "0     1   PAYMENT   9839.64  C1231006815       170136.0      160296.36   \n",
            "1     1   PAYMENT   1864.28  C1666544295        21249.0       19384.72   \n",
            "2     1  TRANSFER     181.0  C1305486145          181.0            0.0   \n",
            "3     1  CASH_OUT     181.0   C840083671          181.0            0.0   \n",
            "4     1   PAYMENT  11668.14  C2048537720        41554.0       29885.86   \n",
            "\n",
            "      nameDest  oldbalanceDest  newbalanceDest  isFraud  isFlaggedFraud  \n",
            "0  M1979787155             0.0             0.0      0.0             0.0  \n",
            "1  M2044282225             0.0             0.0      0.0             0.0  \n",
            "2   C553264065             0.0             0.0      1.0             0.0  \n",
            "3    C38997010         21182.0             0.0      1.0             0.0  \n",
            "4  M1230701703             0.0             0.0      0.0             0.0  \n",
            "<class 'pandas.core.frame.DataFrame'>\n",
            "RangeIndex: 110678 entries, 0 to 110677\n",
            "Data columns (total 11 columns):\n",
            " #   Column          Non-Null Count   Dtype  \n",
            "---  ------          --------------   -----  \n",
            " 0   step            110678 non-null  int64  \n",
            " 1   type            110678 non-null  object \n",
            " 2   amount          110678 non-null  object \n",
            " 3   nameOrig        110677 non-null  object \n",
            " 4   oldbalanceOrg   110677 non-null  float64\n",
            " 5   newbalanceOrig  110677 non-null  object \n",
            " 6   nameDest        110677 non-null  object \n",
            " 7   oldbalanceDest  110676 non-null  float64\n",
            " 8   newbalanceDest  110675 non-null  float64\n",
            " 9   isFraud         110674 non-null  float64\n",
            " 10  isFlaggedFraud  110673 non-null  float64\n",
            "dtypes: float64(5), int64(1), object(5)\n",
            "memory usage: 9.3+ MB\n",
            "None\n",
            "                step  oldbalanceOrg  oldbalanceDest  newbalanceDest  \\\n",
            "count  110678.000000   1.106770e+05    1.106760e+05    1.106750e+05   \n",
            "mean        9.801957   7.951385e+05    9.255038e+05    1.192320e+06   \n",
            "std         2.662003   2.436813e+06    2.371554e+06    2.702099e+06   \n",
            "min         1.000000   0.000000e+00    0.000000e+00    0.000000e+00   \n",
            "25%         8.000000   0.000000e+00    0.000000e+00    0.000000e+00   \n",
            "50%         9.000000   1.676596e+04    3.325653e+04    9.275490e+04   \n",
            "75%        12.000000   1.576820e+05    7.160328e+05    1.151793e+06   \n",
            "max        13.000000   2.854724e+07    3.903958e+07    3.904248e+07   \n",
            "\n",
            "             isFraud  isFlaggedFraud  \n",
            "count  110674.000000        110673.0  \n",
            "mean        0.001093             0.0  \n",
            "std         0.033047             0.0  \n",
            "min         0.000000             0.0  \n",
            "25%         0.000000             0.0  \n",
            "50%         0.000000             0.0  \n",
            "75%         0.000000             0.0  \n",
            "max         1.000000             0.0  \n"
          ]
        },
        {
          "output_type": "stream",
          "name": "stderr",
          "text": [
            "<ipython-input-19-daaab0b26fe6>:6: DtypeWarning: Columns (2,5) have mixed types. Specify dtype option on import or set low_memory=False.\n",
            "  data = pd.read_csv('/content/Fraud.csv', on_bad_lines='skip')\n"
          ]
        }
      ],
      "source": [
        "import pandas as pd\n",
        "import numpy as np\n",
        "from scipy.stats import zscore\n",
        "\n",
        "# Load the CSV data into a Pandas DataFrame\n",
        "data = pd.read_csv('/content/Fraud.csv', on_bad_lines='skip')\n",
        "\n",
        "# Perform initial data exploration\n",
        "print(data.head())  # Display the first few rows of data\n",
        "print(data.info())  # Get information about data types and missing values\n",
        "print(data.describe())  # Get summary statistics\n"
      ]
    },
    {
      "cell_type": "markdown",
      "source": [
        "# **Step 2: Data Cleaning**"
      ],
      "metadata": {
        "id": "ppA0magpcYae"
      }
    },
    {
      "cell_type": "code",
      "source": [
        "# Handle missing values (optional, depending on data analysis strategy)\n",
        "data.dropna(inplace=True)  # Remove rows with missing values\n",
        "\n",
        "# Convert columns to numeric data type\n",
        "numeric_cols = ['amount','oldbalanceOrg', 'newbalanceOrig', 'oldbalanceDest', 'newbalanceDest']\n",
        "data[numeric_cols] = data[numeric_cols].apply(pd.to_numeric, errors='coerce')\n",
        "\n",
        "# Outlier detection (using z-score for illustration)\n",
        "z_scores = zscore(data['amount'])\n",
        "data = data[(np.abs(z_scores) < 3)] # Keep only rows with z-scores within a certain threshold\n",
        "\n",
        "# Address multicollinearity (using correlation matrix for illustration)\n",
        "correlation_matrix = data.corr()\n",
        "# Analyze the correlation matrix and take necessary actions to handle multicollinearity\n"
      ],
      "metadata": {
        "colab": {
          "base_uri": "https://localhost:8080/"
        },
        "id": "VjXkUv2Ebf9s",
        "outputId": "7b886bc7-7dd0-4d52-eda5-c6707811289e"
      },
      "execution_count": 21,
      "outputs": [
        {
          "output_type": "stream",
          "name": "stderr",
          "text": [
            "<ipython-input-21-0b1825ff6d1d>:13: FutureWarning: The default value of numeric_only in DataFrame.corr is deprecated. In a future version, it will default to False. Select only valid columns or specify the value of numeric_only to silence this warning.\n",
            "  correlation_matrix = data.corr()\n"
          ]
        }
      ]
    },
    {
      "cell_type": "markdown",
      "source": [
        "## **Step 3: Feature Engineering and Selection**"
      ],
      "metadata": {
        "id": "E9TRCVQacrla"
      }
    },
    {
      "cell_type": "markdown",
      "source": [
        "Feature selection is a crucial step in building a predictive model. The goal is to choose the most relevant features that will contribute to the model's performance while avoiding unnecessary noise and complexity. In our case, the features available are:\n",
        "\n",
        "1. **step:** Maps a unit of time in the real world.\n",
        "2. **type:** Transaction type (CASH-IN, CASH-OUT, DEBIT, PAYMENT, TRANSFER).\n",
        "3. **amount:** Amount of the transaction in local currency.\n",
        "4. **nameOrig:** Customer who started the transaction.\n",
        "5. **oldbalanceOrg:** Initial balance before the transaction for the originator.\n",
        "6. **newbalanceOrig:** New balance after the transaction for the originator.\n",
        "7. **nameDest:** Customer who is the recipient of the transaction.\n",
        "8. **oldbalanceDest:** Initial balance recipient before the transaction.\n",
        "9. **newbalanceDest:** New balance recipient after the transaction.\n",
        "10. **isFraud:** Whether the transaction is fraudulent (target variable).\n",
        "11. **isFlaggedFraud:** Whether the transaction is flagged as illegal.\n",
        "\n",
        "Let's go through the feature selection process:\n",
        "\n",
        "1. **step:** The 'step' feature represents time steps and might not directly contribute to the prediction of fraud. It could potentially be useful for time-series analysis or if there's a temporal pattern to fraud, but for a basic fraud detection model, it might not be a critical predictor.\n",
        "\n",
        "2. **type:** This categorical variable indicates the type of transaction. It's likely to be an important feature since different transaction types might have varying probabilities of being fraudulent.\n",
        "\n",
        "3. **amount:** The transaction amount could be a significant predictor of fraud. Larger transactions might attract more attention and have a higher probability of being fraudulent.\n",
        "\n",
        "4. **nameOrig:** This is the customer who started the transaction. While this might not be directly related to fraud, it could be used to extract additional features, such as the number of transactions initiated by a customer, which might contribute to the model.\n",
        "\n",
        "5. **oldbalanceOrg** and **newbalanceOrig:** The balance of the originator before and after the transaction. These features could provide insights into unusual behavior. For example, if a customer suddenly empties their account, it might indicate fraud.\n",
        "\n",
        "6. **nameDest:** The recipient of the transaction might have an impact on fraud. For instance, if transactions are frequently going to a small set of recipients, it could indicate suspicious activity.\n",
        "\n",
        "7. **oldbalanceDest** and **newbalanceDest:** Similar to the originator's balances, these features could be important to detect unusual behavior on the recipient's side.\n",
        "\n",
        "8. **isFlaggedFraud:** This is a binary indicator that a transaction is flagged as illegal. It could be a very important feature since it directly indicates suspicious activity.\n",
        "\n",
        "Given this analysis, a possible set of selected features could be: 'type', 'amount', 'oldbalanceOrg', 'newbalanceOrig', 'oldbalanceDest', 'newbalanceDest', and 'isFlaggedFraud'.\n"
      ],
      "metadata": {
        "id": "T6VfJSeNe4s4"
      }
    },
    {
      "cell_type": "code",
      "source": [
        "from sklearn.preprocessing import LabelEncoder"
      ],
      "metadata": {
        "id": "aVGC2jgygaxH"
      },
      "execution_count": 22,
      "outputs": []
    },
    {
      "cell_type": "code",
      "source": [
        "# Create the 'balance_change' feature by subtracting 'oldbalanceOrg' from 'newbalanceOrig'\n",
        "data['balance_change'] = data['newbalanceOrig'] - data['oldbalanceOrg']\n",
        "\n",
        "# Select variables (choose relevant columns based on domain knowledge)\n",
        "selected_features = ['type', 'amount', 'oldbalanceOrg', 'newbalanceOrig', 'oldbalanceDest', 'newbalanceDest', 'balance_change', 'isFlaggedFraud', 'isFraud']\n",
        "# Include 'isFraud' as it is the target variable\n",
        "data = data[selected_features]\n",
        "\n",
        "# Convert categorical variable 'type' to numeric using label encoding\n",
        "label_encoder = LabelEncoder()\n",
        "data['type'] = label_encoder.fit_transform(data['type'])\n"
      ],
      "metadata": {
        "id": "VNjIcCl9c6L2",
        "colab": {
          "base_uri": "https://localhost:8080/"
        },
        "outputId": "c64dceea-9c2e-484d-f87f-412e5f9beaf6"
      },
      "execution_count": 23,
      "outputs": [
        {
          "output_type": "stream",
          "name": "stderr",
          "text": [
            "<ipython-input-23-6214b8138efd>:11: SettingWithCopyWarning: \n",
            "A value is trying to be set on a copy of a slice from a DataFrame.\n",
            "Try using .loc[row_indexer,col_indexer] = value instead\n",
            "\n",
            "See the caveats in the documentation: https://pandas.pydata.org/pandas-docs/stable/user_guide/indexing.html#returning-a-view-versus-a-copy\n",
            "  data['type'] = label_encoder.fit_transform(data['type'])\n"
          ]
        }
      ]
    },
    {
      "cell_type": "markdown",
      "source": [
        "## **Step 4: Model Development**"
      ],
      "metadata": {
        "id": "E8vNQ8iCgoJu"
      }
    },
    {
      "cell_type": "code",
      "source": [
        "from sklearn.model_selection import train_test_split\n",
        "from sklearn.preprocessing import StandardScaler\n",
        "from sklearn.ensemble import RandomForestClassifier\n",
        "from sklearn.metrics import accuracy_score, classification_report"
      ],
      "metadata": {
        "id": "SXwlcxyRcwl8"
      },
      "execution_count": 24,
      "outputs": []
    },
    {
      "cell_type": "code",
      "source": [
        "# Split the data into features (X) and target (y)\n",
        "X = data.drop('isFraud', axis=1)\n",
        "y = data['isFraud']\n",
        "\n",
        "# Split the data into training and validation sets\n",
        "X_train, X_val, y_train, y_val = train_test_split(X, y, test_size=0.2, random_state=42)\n",
        "\n",
        "# Standardize numeric features\n",
        "scaler = StandardScaler()\n",
        "X_train_scaled = scaler.fit_transform(X_train)\n",
        "X_val_scaled = scaler.transform(X_val)\n",
        "\n",
        "# Train a Random Forest Classifier\n",
        "model = RandomForestClassifier(random_state=42)\n",
        "model.fit(X_train_scaled, y_train)\n",
        "\n",
        "# Evaluate model performance on validation set\n",
        "y_pred = model.predict(X_val_scaled)\n",
        "accuracy = accuracy_score(y_val, y_pred)\n",
        "report = classification_report(y_val, y_pred)\n",
        "print(f'Accuracy: {accuracy}')\n",
        "print(report)"
      ],
      "metadata": {
        "colab": {
          "base_uri": "https://localhost:8080/"
        },
        "id": "M7E9KFpygtxM",
        "outputId": "3fe51929-8a0e-499d-ecbc-9b6ae44d19bc"
      },
      "execution_count": 25,
      "outputs": [
        {
          "output_type": "stream",
          "name": "stdout",
          "text": [
            "Accuracy: 0.9993990384615384\n",
            "              precision    recall  f1-score   support\n",
            "\n",
            "         0.0       1.00      1.00      1.00     21609\n",
            "         1.0       1.00      0.43      0.61        23\n",
            "\n",
            "    accuracy                           1.00     21632\n",
            "   macro avg       1.00      0.72      0.80     21632\n",
            "weighted avg       1.00      1.00      1.00     21632\n",
            "\n"
          ]
        }
      ]
    },
    {
      "cell_type": "markdown",
      "source": [
        "## **Step 6: Key Factors that Predict Fraudulent Customers**\n",
        "We can gain insights into the key factors that predict fraudulent customers by examining the feature importance scores from the trained Random Forest model. Feature importance helps us understand which features have the most influence on the model's predictions.\n",
        "The following code will display the top key factors that predict fraudulent customers based on the feature importance scores. The bar plot will visually represent the importance of each feature.\n",
        "\n",
        "### **Interpretation:**\n",
        "\n",
        "\n",
        "\n",
        "*   The feature importance scores indicate how much each feature contributes to the model's prediction. Higher scores suggest stronger predictive power.\n",
        "\n",
        "*   By examining the feature importance scores and the bar plot, we can identify which features have the most influence in predicting fraudulent transactions.\n",
        "\n",
        "\n",
        "\n",
        "*   Features with higher importance are more relevant in identifying fraudulent behavior.\n",
        "\n",
        "\n",
        "\n",
        "\n",
        "\n",
        "\n",
        "\n",
        "\n",
        "\n"
      ],
      "metadata": {
        "id": "TouBg2jWn9kB"
      }
    },
    {
      "cell_type": "code",
      "source": [
        "# Get feature importances from the trained model\n",
        "feature_importances = model.feature_importances_\n",
        "\n",
        "# Create a DataFrame to display feature importance scores\n",
        "feature_importance_df = pd.DataFrame({\n",
        "    'Feature': X.columns,\n",
        "    'Importance': feature_importances\n",
        "})\n",
        "\n",
        "# Sort the DataFrame by importance in descending order\n",
        "feature_importance_df = feature_importance_df.sort_values(by='Importance', ascending=False)\n",
        "\n",
        "# Display the top key factors that predict fraudulent customers\n",
        "print(\"Top Key Factors Predicting Fraudulent Customers:\")\n",
        "print(feature_importance_df)\n",
        "\n",
        "# Plot feature importances\n",
        "import matplotlib.pyplot as plt\n",
        "\n",
        "plt.figure(figsize=(10, 6))\n",
        "plt.barh(feature_importance_df['Feature'], feature_importance_df['Importance'])\n",
        "plt.xlabel('Importance')\n",
        "plt.ylabel('Feature')\n",
        "plt.title('Feature Importance')\n",
        "plt.show()\n"
      ],
      "metadata": {
        "id": "KbWSlE62jdQH",
        "colab": {
          "base_uri": "https://localhost:8080/",
          "height": 738
        },
        "outputId": "8247f43a-cfa4-4948-bda8-73a405e06c2a"
      },
      "execution_count": 26,
      "outputs": [
        {
          "output_type": "stream",
          "name": "stdout",
          "text": [
            "Top Key Factors Predicting Fraudulent Customers:\n",
            "          Feature  Importance\n",
            "1          amount    0.294253\n",
            "6  balance_change    0.185576\n",
            "2   oldbalanceOrg    0.172620\n",
            "5  newbalanceDest    0.162228\n",
            "4  oldbalanceDest    0.133735\n",
            "0            type    0.034723\n",
            "3  newbalanceOrig    0.016865\n",
            "7  isFlaggedFraud    0.000000\n"
          ]
        },
        {
          "output_type": "display_data",
          "data": {
            "text/plain": [
              "<Figure size 1000x600 with 1 Axes>"
            ],
            "image/png": "[encoded data removed]"
          },
          "metadata": {}
        }
      ]
    },
    {
      "cell_type": "markdown",
      "source": [
        "## **Do these factors make sense? If yes, How? If not, How not?**\n",
        "\n",
        "The factors that make sense will likely include those that are intuitively associated with fraudulent behavior. For instance:\n",
        "\n",
        "High 'amount' of transaction: Fraudsters may attempt to transfer larger amounts to maximize their gains.\n",
        "\n",
        "'oldbalanceOrg' and 'newbalanceOrig': Sudden changes in the account balance might indicate suspicious activity.\n",
        "\n",
        "'oldbalanceDest' and 'newbalanceDest': Changes in recipient account balances could be indicative of fraudulent transfers.\n",
        "\n",
        "'balance_change': Unusual balance changes might signal fraudulent actions.\n",
        "\n",
        "If there are factors that don't make sense, it could be due to various reasons such as the nature of the data, the modeling technique used, or the potential presence of noise in the data. It's important to analyze these factors in the context of the domain and dataset to determine their relevance."
      ],
      "metadata": {
        "id": "HTrNpf61og2k"
      }
    },
    {
      "cell_type": "markdown",
      "source": [
        "## **Prevention Measures for Updating Company Infrastructure**\n",
        "\n",
        "When updating the company's infrastructure to prevent fraudulent transactions, several prevention measures can be adopted:\n",
        "\n",
        "1. **Real-time Monitoring and Alerts**: Implement real-time monitoring of transactions to identify suspicious patterns and anomalies. Set up automated alerts for large or unusual transactions.\n",
        "\n",
        "2. **Multi-factor Authentication (MFA)**: Require multi-factor authentication for high-risk transactions, such as fund transfers or account access from new devices.\n",
        "\n",
        "3. **Transaction Limits**: Set transaction limits for different types of transactions, especially high-risk ones, to prevent large unauthorized transfers.\n",
        "\n",
        "4. **Machine Learning Models**: Develop and deploy advanced machine learning models for real-time fraud detection. These models can analyze transaction patterns and behaviors to identify potential fraud.\n",
        "\n",
        "5. **Behavioral Analysis**: Use behavioral analysis to track user behavior and detect any deviations from normal patterns, helping to identify compromised accounts.\n",
        "\n",
        "6. **IP Address Tracking**: Monitor and track IP addresses and geographical locations to identify transactions originating from unexpected locations.\n",
        "\n",
        "7. **Regular Audits**: Conduct regular audits of user accounts, transactions, and system logs to identify any unusual activity.\n",
        "\n"
      ],
      "metadata": {
        "id": "BAgrR6RHo9QE"
      }
    },
    {
      "cell_type": "markdown",
      "source": [
        "## **Evaluating the Effectiveness of Prevention Measures**\n",
        "\n",
        "Assessing the effectiveness of the implemented prevention measures is crucial. Here's how we can determine if the actions have been successful:\n",
        "\n",
        "1. **Historical Data Analysis**: Compare historical fraud rates before and after implementing the prevention measures. A decrease in the number of fraudulent transactions indicates the effectiveness of the measures.\n",
        "\n",
        "2. **Monitoring False Positives and Negatives**: Track false positives (legitimate transactions flagged as fraudulent) and false negatives (fraudulent transactions not detected). The goal is to minimize false positives without compromising fraud detection.\n",
        "\n",
        "3. **Model Performance**: Continuously monitor the performance of the machine learning models used for fraud detection. Evaluate metrics such as precision, recall, F1-score, and accuracy.\n",
        "\n",
        "4. **User Feedback and Complaints**: Gather feedback from users regarding the new security measures. Fewer complaints or concerns related to unauthorized transactions can indicate improved security.\n",
        "\n",
        "5. **Reduced Financial Losses**: Measure the reduction in financial losses due to fraud. A decrease in fraudulent transaction amounts suggests that the prevention measures are effective.\n",
        "\n",
        "6. **Incident Reports**: Track and analyze incident reports related to fraudulent activities. A decline in reported incidents can signal improved security.\n",
        "\n",
        "7. **Reviewing Anomalies**: Regularly review and analyze any anomalies or suspicious patterns detected by the system to identify emerging fraud tactics.\n",
        "\n",
        "8. **Continuous Improvement**: Maintain a feedback loop and continuously update the prevention measures based on new fraud trends and emerging threats.\n",
        "\n",
        "By combining these approaches, we can assess the impact of the prevention measures and determine whether they are effectively reducing fraudulent activities and enhancing the security of the company's financial infrastructure.\n"
      ],
      "metadata": {
        "id": "NpU18eXMpJMu"
      }
    }
  ]
}